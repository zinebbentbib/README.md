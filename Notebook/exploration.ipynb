{
 "cells": [
  {
   "cell_type": "code",
   "execution_count": null,
   "id": "c4b98555",
   "metadata": {},
   "outputs": [],
   "source": [
    "\n",
    "# Installer les bibliothèques nécessaires (exécuter une seule fois)\n",
    "!pip install pandas matplotlib seaborn scikit-learn openpyxl\n"
   ]
  },
  {
   "cell_type": "code",
   "execution_count": null,
   "id": "46185675",
   "metadata": {},
   "outputs": [],
   "source": [
    "\n",
    "import pandas as pd\n",
    "import matplotlib.pyplot as plt\n",
    "import seaborn as sns\n",
    "from sklearn.model_selection import train_test_split\n",
    "from sklearn.ensemble import RandomForestRegressor\n",
    "from sklearn.metrics import mean_squared_error, r2_score, mean_absolute_error\n",
    "from sklearn.preprocessing import LabelEncoder\n",
    "import numpy as np\n"
   ]
  },
  {
   "cell_type": "code",
   "execution_count": null,
   "id": "1ea88c78",
   "metadata": {},
   "outputs": [],
   "source": [
    "\n",
    "# Charger le fichier CSV\n",
    "file_path = \"C:/Users/zineb/Downloads/test_technique_datascientist/telecom_sales_data.csv\"\n",
    "data = pd.read_csv(file_path)\n",
    "\n",
    "# Vérification des données importées\n",
    "print(\"Aperçu des données :\")\n",
    "print(data.head())\n"
   ]
  },
  {
   "cell_type": "code",
   "execution_count": null,
   "id": "774292f7",
   "metadata": {},
   "outputs": [],
   "source": [
    "\n",
    "# Nettoyage des données ---\n",
    "print(\"Valeurs manquantes avant nettoyage :\")\n",
    "print(data.isnull().sum())\n",
    "\n",
    "# Remplir les valeurs numériques manquantes avec la moyenne\n",
    "columns_to_fill_mean = ['marketing_score', 'competition_index', 'customer_satisfaction', \n",
    "                        'purchasing_power_index', 'store_traffic']\n",
    "data[columns_to_fill_mean] = data[columns_to_fill_mean].fillna(data[columns_to_fill_mean].mean())\n",
    "\n",
    "# Remplir les valeurs catégoriques manquantes avec la modalité la plus fréquente\n",
    "columns_to_fill_mode = ['weather_condition', 'tech_event', '5g_phase', 'public_transport']\n",
    "for col in columns_to_fill_mode:\n",
    "    data[col] = data[col].fillna(data[col].mode()[0])\n",
    "\n",
    "# Supprimer les lignes avec des valeurs critiques manquantes dans les colonnes des revenus\n",
    "data = data.dropna(subset=['jPhone_Pro_revenue', 'Kaggle_Pixel_5_revenue', 'Planet_SX_revenue'])\n",
    "\n",
    "# Convertir la colonne des dates en type datetime\n",
    "if 'date' in data.columns:\n",
    "    data['date'] = pd.to_datetime(data['date'])\n",
    "\n",
    "# Vérifier les valeurs manquantes après nettoyage\n",
    "print(\"\\nValeurs manquantes après nettoyage :\")\n",
    "print(data.isnull().sum())\n"
   ]
  },
  {
   "cell_type": "code",
   "execution_count": null,
   "id": "81be0a89",
   "metadata": {},
   "outputs": [],
   "source": [
    "\n",
    "# Statistiques descriptives pour les revenus des 3 modèles de smartphones\n",
    "print(\"\\nStatistiques descriptives des revenus :\")\n",
    "desc_stats = data[['jPhone_Pro_revenue', 'Kaggle_Pixel_5_revenue', 'Planet_SX_revenue']].describe()\n",
    "print(desc_stats)\n"
   ]
  },
  {
   "cell_type": "code",
   "execution_count": null,
   "id": "3e78d94b",
   "metadata": {},
   "outputs": [],
   "source": [
    "\n",
    "# Visualisation des revenus journaliers ---\n",
    "revenues = data[['jPhone_Pro_revenue', 'Kaggle_Pixel_5_revenue', 'Planet_SX_revenue']]\n",
    "\n",
    "plt.figure(figsize=(14, 7))\n",
    "revenues.plot(title=\"Revenus Journaliers des Smartphones\")\n",
    "plt.ylabel(\"Revenus (€)\")\n",
    "plt.xlabel(\"Index\")\n",
    "plt.grid(True)\n",
    "plt.show()\n"
   ]
  },
  {
   "cell_type": "code",
   "execution_count": null,
   "id": "c10083ea",
   "metadata": {},
   "outputs": [],
   "source": [
    "\n",
    "# Calcul des corrélations\n",
    "correlation_matrix = data[['jPhone_Pro_revenue', 'Kaggle_Pixel_5_revenue', 'Planet_SX_revenue',\n",
    "                           'marketing_score', 'competition_index', 'customer_satisfaction',\n",
    "                           'purchasing_power_index', 'store_traffic']].corr()\n",
    "\n",
    "# Visualisation des corrélations avec une heatmap\n",
    "plt.figure(figsize=(12, 8))\n",
    "sns.heatmap(correlation_matrix, annot=True, cmap='coolwarm', fmt=\".2f\", cbar=True)\n",
    "plt.title(\"Corrélations entre les revenus et les variables exogènes\")\n",
    "plt.show()\n"
   ]
  },
  {
   "cell_type": "code",
   "execution_count": null,
   "id": "9fc1c17b",
   "metadata": {},
   "outputs": [],
   "source": [
    "\n",
    "# Analyse locale par ville\n",
    "city_revenue = data.groupby('city')[['jPhone_Pro_revenue', 'Kaggle_Pixel_5_revenue', 'Planet_SX_revenue']].mean()\n",
    "city_revenue = city_revenue.sort_values(by='jPhone_Pro_revenue', ascending=False)\n",
    "\n",
    "plt.figure(figsize=(16, 8))\n",
    "city_revenue.plot(kind='bar', figsize=(16, 8), grid=True)\n",
    "plt.title(\"Revenus Moyens par Ville et Modèle de Smartphone\", fontsize=16)\n",
    "plt.ylabel(\"Revenus Moyens (€)\")\n",
    "plt.xlabel(\"Ville\")\n",
    "plt.xticks(rotation=45, fontsize=10)\n",
    "plt.legend(title=\"Modèles\", fontsize=10)\n",
    "plt.show()\n"
   ]
  }
 ],
 "metadata": {},
 "nbformat": 4,
 "nbformat_minor": 5
}
